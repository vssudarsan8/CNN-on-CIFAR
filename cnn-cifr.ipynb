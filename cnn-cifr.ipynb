{
 "cells": [
  {
   "cell_type": "markdown",
   "metadata": {
    "colab_type": "text",
    "id": "GSvKMyC1b2YN"
   },
   "source": [
    "# Assignment 25"
   ]
  },
  {
   "cell_type": "code",
   "execution_count": 1,
   "metadata": {
    "colab": {
     "base_uri": "https://localhost:8080/",
     "height": 63
    },
    "colab_type": "code",
    "id": "Uee4vFbzmYu_",
    "outputId": "7f9da4b6-4711-4e61-a8bd-4552ca06e03b"
   },
   "outputs": [
    {
     "data": {
      "text/html": [
       "<p style=\"color: red;\">\n",
       "The default version of TensorFlow in Colab will soon switch to TensorFlow 2.x.<br>\n",
       "We recommend you <a href=\"https://www.tensorflow.org/guide/migrate\" target=\"_blank\">upgrade</a> now \n",
       "or ensure your notebook will continue to use TensorFlow 1.x via the <code>%tensorflow_version 1.x</code> magic:\n",
       "<a href=\"https://colab.research.google.com/notebooks/tensorflow_version.ipynb\" target=\"_blank\">more info</a>.</p>\n"
      ],
      "text/plain": [
       "<IPython.core.display.HTML object>"
      ]
     },
     "metadata": {
      "tags": []
     },
     "output_type": "display_data"
    }
   ],
   "source": [
    "import os\n",
    "\n",
    "import tensorflow as tf\n",
    "from tensorflow import keras\n",
    "\n"
   ]
  },
  {
   "cell_type": "code",
   "execution_count": 0,
   "metadata": {
    "colab": {},
    "colab_type": "code",
    "id": "UqGmMJfkjxlN"
   },
   "outputs": [],
   "source": [
    "# import keras\n",
    "# from keras.datasets import cifar10\n",
    "# from keras.models import Model, Sequential\n",
    "# from keras.layers import Dense, Dropout, Flatten, Input, AveragePooling2D, merge, Activation\n",
    "# from keras.layers import Conv2D, MaxPooling2D, BatchNormalization\n",
    "# from keras.layers import Concatenate\n",
    "# from keras.optimizers import Adam\n",
    "from tensorflow.keras import models, layers\n",
    "from tensorflow.keras.models import Model\n",
    "from tensorflow.keras.layers import BatchNormalization, Activation, Flatten\n",
    "from tensorflow.keras.optimizers import Adam"
   ]
  },
  {
   "cell_type": "code",
   "execution_count": 0,
   "metadata": {
    "colab": {},
    "colab_type": "code",
    "id": "nBT59LPCj4FY"
   },
   "outputs": [],
   "source": [
    "# Hyperparameters\n",
    "batch_size = 128\n",
    "num_classes = 10\n",
    "epochs = 10\n",
    "l = 40\n",
    "num_filter = 12\n",
    "compression = 0.5\n",
    "dropout_rate = 0.2"
   ]
  },
  {
   "cell_type": "markdown",
   "metadata": {
    "colab_type": "text",
    "id": "ztLKFZdhb2Yi"
   },
   "source": [
    "#### Loading data"
   ]
  },
  {
   "cell_type": "code",
   "execution_count": 4,
   "metadata": {
    "colab": {
     "base_uri": "https://localhost:8080/",
     "height": 51
    },
    "colab_type": "code",
    "id": "__VldHAskRNo",
    "outputId": "e2e0a460-2b12-4719-a2e4-14aaa2dce56e"
   },
   "outputs": [
    {
     "name": "stdout",
     "output_type": "stream",
     "text": [
      "Downloading data from https://www.cs.toronto.edu/~kriz/cifar-10-python.tar.gz\n",
      "170500096/170498071 [==============================] - 13s 0us/step\n"
     ]
    }
   ],
   "source": [
    "# Load CIFAR10 Data\n",
    "(X_train, y_train), (X_test, y_test) = tf.keras.datasets.cifar10.load_data()\n",
    "img_height, img_width, channel = X_train.shape[1],X_train.shape[2],X_train.shape[3]\n",
    "\n",
    "# convert to one hot encoing \n",
    "y_train = tf.keras.utils.to_categorical(y_train, num_classes)\n",
    "y_test = tf.keras.utils.to_categorical(y_test, num_classes) "
   ]
  },
  {
   "cell_type": "code",
   "execution_count": 5,
   "metadata": {
    "colab": {
     "base_uri": "https://localhost:8080/",
     "height": 34
    },
    "colab_type": "code",
    "id": "USoLa4_Lj4H0",
    "outputId": "29128ea9-a927-4b12-a226-4d87587fca86"
   },
   "outputs": [
    {
     "data": {
      "text/plain": [
       "(50000, 32, 32, 3)"
      ]
     },
     "execution_count": 5,
     "metadata": {
      "tags": []
     },
     "output_type": "execute_result"
    }
   ],
   "source": [
    "X_train.shape"
   ]
  },
  {
   "cell_type": "markdown",
   "metadata": {
    "colab_type": "text",
    "id": "jQ6Or9Glb2Yv"
   },
   "source": [
    "#### Standarding data"
   ]
  },
  {
   "cell_type": "code",
   "execution_count": 0,
   "metadata": {
    "colab": {},
    "colab_type": "code",
    "id": "v7u77XEXn3JG"
   },
   "outputs": [],
   "source": [
    "def prep_pixels(train, test):\n",
    "# convert from integers to floats\n",
    "    train_norm = train.astype('float32')\n",
    "    test_norm = test.astype('float32')\n",
    "# normalize to range 0-1\n",
    "    train_norm = train_norm / 255.0\n",
    "    test_norm = test_norm / 255.0\n",
    "# return normalized images\n",
    "    return train_norm, test_norm"
   ]
  },
  {
   "cell_type": "code",
   "execution_count": 0,
   "metadata": {
    "colab": {},
    "colab_type": "code",
    "id": "pjip8_PuoTIG"
   },
   "outputs": [],
   "source": [
    "\n",
    "\n",
    "X_train,X_test=prep_pixels(X_train,X_test)"
   ]
  },
  {
   "cell_type": "code",
   "execution_count": 8,
   "metadata": {
    "colab": {
     "base_uri": "https://localhost:8080/",
     "height": 285
    },
    "colab_type": "code",
    "id": "Vzn95rmMj4KE",
    "outputId": "98807a1b-6dff-428e-ad02-c008aa3a7172"
   },
   "outputs": [
    {
     "name": "stderr",
     "output_type": "stream",
     "text": [
      "Using TensorFlow backend.\n"
     ]
    },
    {
     "data": {
      "image/png": "[encoded data removed]",
      "text/plain": [
       "<Figure size 432x288 with 9 Axes>"
      ]
     },
     "metadata": {
      "tags": []
     },
     "output_type": "display_data"
    }
   ],
   "source": [
    "#https://machinelearningmastery.com/how-to-configure-image-data-augmentation-when-training-deep-learning-neural-networks/\n",
    "from numpy import expand_dims\n",
    "from keras.preprocessing.image import load_img\n",
    "from keras.preprocessing.image import img_to_array\n",
    "from keras.preprocessing.image import ImageDataGenerator\n",
    "from matplotlib import pyplot\n",
    "c=X_train[1]\n",
    "c.shape\n",
    "samples = expand_dims(c, 0)\n",
    "# create image data augmentation generator\n",
    "datagen = ImageDataGenerator(rotation_range=90)\n",
    "# prepare iterator\n",
    "it = datagen.flow(samples, batch_size=1)\n",
    "# generate samples and plot\n",
    "for i in range(9):\n",
    "    pyplot.subplot(330 + 1 + i)\n",
    "# generate batch of images\n",
    "    batch = it.next()\n",
    "# convert to unsigned integers for viewing\n",
    "    image = batch[0].astype('uint8')\n",
    "# plot raw pixel data\n",
    "    pyplot.imshow(image)\n",
    "# show the figure\n",
    "\n",
    "pyplot.show()"
   ]
  },
  {
   "cell_type": "code",
   "execution_count": 0,
   "metadata": {
    "colab": {},
    "colab_type": "code",
    "id": "KVYFMN2_ZXOv"
   },
   "outputs": [],
   "source": [
    "# Defining the model"
   ]
  },
  {
   "cell_type": "markdown",
   "metadata": {
    "colab_type": "text",
    "id": "P-BqhGBZb2ZG"
   },
   "source": [
    " ### Model using dense layer"
   ]
  },
  {
   "cell_type": "code",
   "execution_count": 0,
   "metadata": {
    "colab": {},
    "colab_type": "code",
    "id": "_ATDUK5vj4Mh"
   },
   "outputs": [],
   "source": [
    "# Dense Block\n",
    "def denseblock(input, num_filter = 64, dropout_rate = 0):\n",
    "    global compression\n",
    "    temp = input\n",
    "    for _ in range(l): \n",
    "        BatchNorm = layers.BatchNormalization()(temp)\n",
    "        relu = layers.Activation('relu')(BatchNorm)\n",
    "        Conv2D_3_3 = layers.Conv2D(int(num_filter*compression), (5,5),kernel_initializer=\"he_uniform\" ,padding='same')(relu)\n",
    "        if dropout_rate>0:\n",
    "            Conv2D_3_3 = layers.Dropout(dropout_rate)(Conv2D_3_3)\n",
    "        concat = layers.Concatenate(axis=-1)([temp,Conv2D_3_3])\n",
    "        \n",
    "        temp = concat\n",
    "        \n",
    "    return temp\n",
    "\n",
    "## transition Blosck\n",
    "def transition(input, num_filter = 32, dropout_rate = 0):\n",
    "    global compression\n",
    "    BatchNorm = layers.BatchNormalization()(input)\n",
    "    relu = layers.Activation('relu')(BatchNorm)\n",
    "    Conv2D_BottleNeck = layers.Conv2D(int(num_filter*compression), (5,5), kernel_initializer=\"he_uniform\" ,padding='same')(relu)\n",
    "    if dropout_rate>0:\n",
    "         Conv2D_BottleNeck = layers.Dropout(dropout_rate)(Conv2D_BottleNeck)\n",
    "    avg = layers.AveragePooling2D(pool_size=(2,2))(Conv2D_BottleNeck)\n",
    "    return avg\n",
    "\n",
    "#output layer\n",
    "def output_layer(input):\n",
    "    global compression\n",
    "    BatchNorm = layers.BatchNormalization()(input)\n",
    "    relu = layers.Activation('relu')(BatchNorm)\n",
    "    AvgPooling = layers.AveragePooling2D(pool_size=(2,2))(relu)\n",
    "    flat = layers.Flatten()(AvgPooling)\n",
    "    output = layers.Dense(num_classes, activation='softmax')(flat)\n",
    "    return output\n",
    "\n"
   ]
  },
  {
   "cell_type": "code",
   "execution_count": 0,
   "metadata": {
    "colab": {},
    "colab_type": "code",
    "id": "0fZacgTQk_Gl"
   },
   "outputs": [],
   "source": [
    "num_filter = 10\n",
    "dropout_rate = 0\n",
    "l = 12\n",
    "input = layers.Input(shape=(img_height, img_width, channel,))\n",
    "First_Conv2D = layers.Conv2D(num_filter, (5,5), use_bias=False ,padding='same')(input)\n",
    "BatchNorm = layers.BatchNormalization()(First_Conv2D)\n",
    "\n",
    "First_Block = denseblock(BatchNorm,32, dropout_rate)\n",
    "First_Transition = transition(First_Block, num_filter, dropout_rate)\n",
    "\n",
    "Second_Block = denseblock(First_Transition, 16, dropout_rate)\n",
    "Second_Transition = transition(Second_Block, num_filter, dropout_rate)\n",
    "\n",
    "Third_Block = denseblock(Second_Transition, num_filter, dropout_rate)\n",
    "Third_Transition = transition(Third_Block, num_filter, dropout_rate)\n",
    "conv_layer = layers.Conv2D(num_filter, (1,1), use_bias=False ,padding='same') (input)\n",
    "last = layers.GlobalMaxPooling2D()(conv_layer)\n",
    "output = layers.Activation('softmax')(last)\n"
   ]
  },
  {
   "cell_type": "code",
   "execution_count": 19,
   "metadata": {
    "colab": {
     "base_uri": "https://localhost:8080/",
     "height": 289
    },
    "colab_type": "code",
    "id": "voLWzMSFj4Oy",
    "outputId": "0e714f8a-70fe-4fed-dfdd-5def78252ed8"
   },
   "outputs": [
    {
     "name": "stdout",
     "output_type": "stream",
     "text": [
      "Model: \"model_1\"\n",
      "_________________________________________________________________\n",
      "Layer (type)                 Output Shape              Param #   \n",
      "=================================================================\n",
      "input_5 (InputLayer)         [(None, 32, 32, 3)]       0         \n",
      "_________________________________________________________________\n",
      "conv2d_215 (Conv2D)          (None, 32, 32, 10)        30        \n",
      "_________________________________________________________________\n",
      "global_max_pooling2d_1 (Glob (None, 10)                0         \n",
      "_________________________________________________________________\n",
      "activation_208 (Activation)  (None, 10)                0         \n",
      "=================================================================\n",
      "Total params: 30\n",
      "Trainable params: 30\n",
      "Non-trainable params: 0\n",
      "_________________________________________________________________\n"
     ]
    }
   ],
   "source": [
    "model = Model(inputs=[input], outputs=[output])\n",
    "model.summary()"
   ]
  },
  {
   "cell_type": "code",
   "execution_count": 0,
   "metadata": {
    "colab": {},
    "colab_type": "code",
    "id": "c0QWFrXej4RG"
   },
   "outputs": [],
   "source": [
    "# determine Loss function and Optimizer\n",
    "model.compile(loss='categorical_crossentropy',\n",
    "              optimizer=Adam(), metrics=['accuracy'])\n",
    "\n"
   ]
  },
  {
   "cell_type": "code",
   "execution_count": 21,
   "metadata": {
    "colab": {
     "base_uri": "https://localhost:8080/",
     "height": 1000
    },
    "colab_type": "code",
    "id": "CTy-dtN4j4Tc",
    "outputId": "47534dc4-5dd5-4769-db43-095fab35e86d"
   },
   "outputs": [
    {
     "name": "stdout",
     "output_type": "stream",
     "text": [
      "Epoch 1/15\n",
      "780/781 [============================>.] - ETA: 0s - loss: 2.3086 - acc: 0.1021Epoch 1/15\n",
      "10000/781 [================================================================================================================================================================================================================================================================================================================================================================================================] - 2s 153us/sample - loss: 2.2888 - acc: 0.1032\n",
      "781/781 [==============================] - 22s 28ms/step - loss: 2.3086 - acc: 0.1021 - val_loss: 2.2968 - val_acc: 0.1032\n",
      "Epoch 2/15\n",
      "780/781 [============================>.] - ETA: 0s - loss: 2.2958 - acc: 0.1090Epoch 1/15\n",
      "10000/781 [================================================================================================================================================================================================================================================================================================================================================================================================] - 1s 68us/sample - loss: 2.2898 - acc: 0.1346\n",
      "781/781 [==============================] - 19s 24ms/step - loss: 2.2958 - acc: 0.1091 - val_loss: 2.2929 - val_acc: 0.1346\n",
      "Epoch 3/15\n",
      "780/781 [============================>.] - ETA: 0s - loss: 2.2923 - acc: 0.1288Epoch 1/15\n",
      "10000/781 [================================================================================================================================================================================================================================================================================================================================================================================================] - 1s 66us/sample - loss: 2.2835 - acc: 0.1378\n",
      "781/781 [==============================] - 19s 24ms/step - loss: 2.2923 - acc: 0.1288 - val_loss: 2.2896 - val_acc: 0.1378\n",
      "Epoch 4/15\n",
      "780/781 [============================>.] - ETA: 0s - loss: 2.2891 - acc: 0.1359Epoch 1/15\n",
      "10000/781 [================================================================================================================================================================================================================================================================================================================================================================================================] - 1s 69us/sample - loss: 2.2830 - acc: 0.1553\n",
      "781/781 [==============================] - 19s 24ms/step - loss: 2.2891 - acc: 0.1359 - val_loss: 2.2862 - val_acc: 0.1553\n",
      "Epoch 5/15\n",
      "778/781 [============================>.] - ETA: 0s - loss: 2.2857 - acc: 0.1446Epoch 1/15\n",
      "10000/781 [================================================================================================================================================================================================================================================================================================================================================================================================] - 1s 68us/sample - loss: 2.2813 - acc: 0.1320\n",
      "781/781 [==============================] - 19s 25ms/step - loss: 2.2857 - acc: 0.1445 - val_loss: 2.2830 - val_acc: 0.1320\n",
      "Epoch 6/15\n",
      "779/781 [============================>.] - ETA: 0s - loss: 2.2825 - acc: 0.1471Epoch 1/15\n",
      "10000/781 [================================================================================================================================================================================================================================================================================================================================================================================================] - 1s 70us/sample - loss: 2.2778 - acc: 0.1554\n",
      "781/781 [==============================] - 19s 24ms/step - loss: 2.2825 - acc: 0.1472 - val_loss: 2.2792 - val_acc: 0.1554\n",
      "Epoch 7/15\n",
      "779/781 [============================>.] - ETA: 0s - loss: 2.2789 - acc: 0.1503Epoch 1/15\n",
      "10000/781 [================================================================================================================================================================================================================================================================================================================================================================================================] - 1s 70us/sample - loss: 2.2778 - acc: 0.1560\n",
      "781/781 [==============================] - 19s 24ms/step - loss: 2.2789 - acc: 0.1502 - val_loss: 2.2754 - val_acc: 0.1560\n",
      "Epoch 8/15\n",
      "780/781 [============================>.] - ETA: 0s - loss: 2.2750 - acc: 0.1525Epoch 1/15\n",
      "10000/781 [================================================================================================================================================================================================================================================================================================================================================================================================] - 1s 75us/sample - loss: 2.2740 - acc: 0.1551\n",
      "781/781 [==============================] - 19s 24ms/step - loss: 2.2750 - acc: 0.1526 - val_loss: 2.2713 - val_acc: 0.1551\n",
      "Epoch 9/15\n",
      "779/781 [============================>.] - ETA: 0s - loss: 2.2704 - acc: 0.1503Epoch 1/15\n",
      "10000/781 [================================================================================================================================================================================================================================================================================================================================================================================================] - 1s 73us/sample - loss: 2.2628 - acc: 0.1549\n",
      "781/781 [==============================] - 19s 24ms/step - loss: 2.2704 - acc: 0.1502 - val_loss: 2.2667 - val_acc: 0.1549\n",
      "Epoch 10/15\n",
      "780/781 [============================>.] - ETA: 0s - loss: 2.2663 - acc: 0.1525Epoch 1/15\n",
      "10000/781 [================================================================================================================================================================================================================================================================================================================================================================================================] - 1s 69us/sample - loss: 2.2589 - acc: 0.1568\n",
      "781/781 [==============================] - 19s 24ms/step - loss: 2.2663 - acc: 0.1525 - val_loss: 2.2626 - val_acc: 0.1568\n",
      "Epoch 11/15\n",
      "778/781 [============================>.] - ETA: 0s - loss: 2.2622 - acc: 0.1546Epoch 1/15\n",
      "10000/781 [================================================================================================================================================================================================================================================================================================================================================================================================] - 1s 69us/sample - loss: 2.2533 - acc: 0.1534\n",
      "781/781 [==============================] - 19s 24ms/step - loss: 2.2622 - acc: 0.1546 - val_loss: 2.2588 - val_acc: 0.1534\n",
      "Epoch 12/15\n",
      "780/781 [============================>.] - ETA: 0s - loss: 2.2585 - acc: 0.1528Epoch 1/15\n",
      "10000/781 [================================================================================================================================================================================================================================================================================================================================================================================================] - 1s 74us/sample - loss: 2.2526 - acc: 0.1563\n",
      "781/781 [==============================] - 19s 24ms/step - loss: 2.2585 - acc: 0.1527 - val_loss: 2.2552 - val_acc: 0.1563\n",
      "Epoch 13/15\n",
      "778/781 [============================>.] - ETA: 0s - loss: 2.2550 - acc: 0.1565Epoch 1/15\n",
      "10000/781 [================================================================================================================================================================================================================================================================================================================================================================================================] - 1s 74us/sample - loss: 2.2438 - acc: 0.1568\n",
      "781/781 [==============================] - 19s 24ms/step - loss: 2.2550 - acc: 0.1565 - val_loss: 2.2517 - val_acc: 0.1568\n",
      "Epoch 14/15\n",
      "778/781 [============================>.] - ETA: 0s - loss: 2.2514 - acc: 0.1572Epoch 1/15\n",
      "10000/781 [================================================================================================================================================================================================================================================================================================================================================================================================] - 1s 78us/sample - loss: 2.2364 - acc: 0.1552\n",
      "781/781 [==============================] - 19s 24ms/step - loss: 2.2514 - acc: 0.1573 - val_loss: 2.2482 - val_acc: 0.1552\n",
      "Epoch 15/15\n",
      "779/781 [============================>.] - ETA: 0s - loss: 2.2483 - acc: 0.1597Epoch 1/15\n",
      "10000/781 [================================================================================================================================================================================================================================================================================================================================================================================================] - 1s 76us/sample - loss: 2.2366 - acc: 0.1569\n",
      "781/781 [==============================] - 19s 24ms/step - loss: 2.2483 - acc: 0.1597 - val_loss: 2.2452 - val_acc: 0.1569\n",
      "> 15.690\n"
     ]
    },
    {
     "data": {
      "image/png": "[encoded data removed]",
      "text/plain": [
       "<Figure size 432x288 with 1 Axes>"
      ]
     },
     "metadata": {
      "tags": []
     },
     "output_type": "display_data"
    }
   ],
   "source": [
    "#https://machinelearningmastery.com/how-to-develop-a-cnn-from-scratch-for-cifar-10-photo-classification/\n",
    "def summarize_diagnostics(history):\n",
    "\t# plot loss\n",
    "\tpyplot.subplot(121)\n",
    "\tpyplot.title('Cross Entropy Loss')\n",
    "\tpyplot.plot(history.history['loss'], color='blue', label='train')\n",
    "\tpyplot.plot(history.history['val_loss'], color='orange', label='test')\n",
    "\tpyplot.show()\n",
    "\t\n",
    " \n",
    "# run the test harness for evaluating a model\n",
    "def run_test_harness():\n",
    "\t\n",
    "\t# define model\n",
    "\t\n",
    "\t# create data generator\n",
    "\tdatagen = ImageDataGenerator(width_shift_range=0.1, height_shift_range=0.1, horizontal_flip=True)\n",
    "\t# prepare iterator\n",
    "\tit_train = datagen.flow(X_train, y_train, batch_size=64)\n",
    "\t# fit model\n",
    "\tsteps = int(X_train.shape[0] / 64)\n",
    "\thistory = model.fit_generator(it_train, steps_per_epoch=steps, epochs=15, validation_data=(X_test, y_test), verbose=1)\n",
    "\t# evaluate model\n",
    "\t_, acc = model.evaluate(X_test, y_test, verbose=0)\n",
    "\tprint('> %.3f' % (acc * 100.0))\n",
    "\t# learning curves\n",
    "\tsummarize_diagnostics(history)\n",
    " \n",
    "# entry point, run the test harness\n",
    "run_test_harness()"
   ]
  },
  {
   "cell_type": "markdown",
   "metadata": {
    "colab_type": "text",
    "id": "4F8lCb6ab2Zc"
   },
   "source": [
    "train_loss: 0.1203   train_acc: 0.9561 \n",
    "\n",
    "val_loss: 0.6271   val_acc: 0.8439"
   ]
  },
  {
   "cell_type": "markdown",
   "metadata": {
    "colab_type": "text",
    "id": "wkJv3UK3b2Zd"
   },
   "source": [
    "### Model without dense layer"
   ]
  },
  {
   "cell_type": "code",
   "execution_count": 0,
   "metadata": {
    "colab": {},
    "colab_type": "code",
    "id": "59osdY7zj4Vr"
   },
   "outputs": [],
   "source": [
    "from keras import regularizers\n",
    "# Dense Block\n",
    "def denseblock(input, num_filter = 12, dropout_rate = 0.2):\n",
    "    global compression\n",
    "    temp = input\n",
    "    for _ in range(l): \n",
    "        BatchNorm = layers.BatchNormalization()(temp)\n",
    "        relu = layers.Activation('relu')(BatchNorm)\n",
    "        Conv2D_3_3 = layers.Conv2D(int(num_filter*compression), (5,5), use_bias=False ,padding='same')(relu)\n",
    "        if dropout_rate>0:\n",
    "            Conv2D_3_3 = layers.Dropout(dropout_rate)(Conv2D_3_3)\n",
    "        concat = layers.Concatenate(axis=-1)([temp,Conv2D_3_3])\n",
    "        \n",
    "        temp = concat\n",
    "        \n",
    "    return temp\n",
    "\n",
    "## transition Blosck\n",
    "def transition(input, num_filter = 12, dropout_rate = 0.2):\n",
    "    global compression\n",
    "    BatchNorm = layers.BatchNormalization()(input)\n",
    "    relu = layers.Activation('relu')(BatchNorm)\n",
    "    Conv2D_BottleNeck = layers.Conv2D(int(num_filter*compression), (5,5), use_bias=False ,padding='same')(relu)\n",
    "    if dropout_rate>0:\n",
    "         Conv2D_BottleNeck = layers.Dropout(dropout_rate)(Conv2D_BottleNeck)\n",
    "    avg = layers.AveragePooling2D(pool_size=(2,2))(Conv2D_BottleNeck)\n",
    "    return avg\n",
    "\n",
    "#output layer\n",
    "def output_layer(input):\n",
    "    global compression\n",
    "    BatchNorm = layers.BatchNormalization()(input)\n",
    "    relu = layers.Activation('relu')(BatchNorm)\n",
    "    AvgPooling = layers. MaxPooling2D(pool_size=(2,2))(relu)\n",
    "    \n",
    "    output = layers.Conv2D(filters=10,kernel_size=(2,2),activation='softmax')(AvgPooling)\n",
    "   \n",
    "    flat = layers.Flatten()(output)    \n",
    "    return flat\n",
    "\n",
    "\n",
    "\n",
    "num_filter = 12\n",
    "dropout_rate = 0\n",
    "l = 12\n",
    "input = layers.Input(shape=(img_height, img_width, channel,))\n",
    "First_Conv2D = layers.Conv2D(32, (3,3), use_bias=False ,padding='same')(input)\n",
    "\n",
    "First_Block = denseblock(First_Conv2D,10, dropout_rate)\n",
    "First_Transition = transition(First_Block, 64, dropout_rate)\n",
    "\n",
    "Second_Block = denseblock(First_Transition, 10, dropout_rate)\n",
    "Second_Transition = transition(Second_Block, 32, dropout_rate)\n",
    "\n",
    "Third_Block = denseblock(Second_Transition, num_filter, dropout_rate)\n",
    "Third_Transition = transition(Third_Block, 32, dropout_rate)\n",
    "\n",
    "conv_layer = layers.Conv2D(num_filter, (1,1), use_bias=False ,padding='same')(input)\n",
    "last = layers.GlobalMaxPooling2D()(conv_layer)\n",
    "output = layers.Activation('softmax')(last)\n"
   ]
  },
  {
   "cell_type": "code",
   "execution_count": 23,
   "metadata": {
    "colab": {
     "base_uri": "https://localhost:8080/",
     "height": 289
    },
    "colab_type": "code",
    "id": "P9Ww0AmJj4Zj",
    "outputId": "ec19b7c0-9d0e-49ee-c900-83ac6ed5fb84"
   },
   "outputs": [
    {
     "name": "stdout",
     "output_type": "stream",
     "text": [
      "Model: \"model_2\"\n",
      "_________________________________________________________________\n",
      "Layer (type)                 Output Shape              Param #   \n",
      "=================================================================\n",
      "input_6 (InputLayer)         [(None, 32, 32, 3)]       0         \n",
      "_________________________________________________________________\n",
      "conv2d_256 (Conv2D)          (None, 32, 32, 12)        36        \n",
      "_________________________________________________________________\n",
      "global_max_pooling2d_2 (Glob (None, 12)                0         \n",
      "_________________________________________________________________\n",
      "activation_248 (Activation)  (None, 12)                0         \n",
      "=================================================================\n",
      "Total params: 36\n",
      "Trainable params: 36\n",
      "Non-trainable params: 0\n",
      "_________________________________________________________________\n"
     ]
    }
   ],
   "source": [
    "model = Model(inputs=[input], outputs=[output])\n",
    "model.summary()"
   ]
  },
  {
   "cell_type": "code",
   "execution_count": 0,
   "metadata": {
    "colab": {},
    "colab_type": "code",
    "id": "1WQT_osgghe5"
   },
   "outputs": [],
   "source": [
    "# determine Loss function and Optimizer\n",
    "#a=keras.optimizers.Adam(learning_rate=0.001, beta_1=0.9, beta_2=0.999, amsgrad=False)\n",
    "model.compile(loss='categorical_crossentropy',\n",
    "              optimizer='Adam', metrics=['accuracy'])\n"
   ]
  },
  {
   "cell_type": "code",
   "execution_count": 0,
   "metadata": {
    "colab": {},
    "colab_type": "code",
    "id": "YIZBdVo-gwLV"
   },
   "outputs": [],
   "source": [
    "def summarize_diagnostics(history):\n",
    "\t# plot loss\n",
    "\tpyplot.subplot(121)\n",
    "\tpyplot.title('Cross Entropy Loss')\n",
    "\tpyplot.plot(history.history['loss'], color='blue', label='train')\n",
    "\tpyplot.plot(history.history['val_loss'], color='orange', label='test')\n",
    "\tpyplot.show()\n",
    "\t\n",
    " \n",
    "# run the test harness for evaluating a model\n",
    "def run_test_harness():\n",
    "\t\n",
    "\t# define model\n",
    "\t\n",
    "\t# create data generator\n",
    "\tdatagen = ImageDataGenerator(width_shift_range=0.1, height_shift_range=0.1, horizontal_flip=True)\n",
    "\t# prepare iterator\n",
    "\tit_train = datagen.flow(X_train, y_train, batch_size=60)\n",
    "\t# fit model\n",
    "\tsteps = int(X_train.shape[0] / 39)\n",
    "\thistory = model.fit_generator(it_train, steps_per_epoch=steps, epochs=20, validation_data=(X_test, y_test), verbose=1)\n",
    "\t# evaluate model\n",
    "\t_, acc = model.evaluate(X_test, y_test, verbose=0)\n",
    "\tprint('> %.3f' % (acc * 100.0))\n",
    "\t# learning curves\n",
    "\tsummarize_diagnostics(history)\n",
    " \n",
    "# entry point, run the test harness\n"
   ]
  },
  {
   "cell_type": "code",
   "execution_count": 0,
   "metadata": {
    "colab": {},
    "colab_type": "code",
    "id": "J5XdYTZ_b2Zv"
   },
   "outputs": [],
   "source": [
    "from keras.models import load_model\n",
    "#saving model weights \n",
    "model.save('my_model.h5') "
   ]
  },
  {
   "cell_type": "markdown",
   "metadata": {
    "colab_type": "text",
    "id": "t4uFEDxOb2Z6"
   },
   "source": [
    " ###### JUST CONTINUING THE MODEL FOR ANOTHER 5 EPOCHS "
   ]
  },
  {
   "cell_type": "code",
   "execution_count": 0,
   "metadata": {
    "colab": {},
    "colab_type": "code",
    "id": "P4ZIxDdaMXEK"
   },
   "outputs": [],
   "source": [
    "\n",
    "def summarize_diagnostics(history):\n",
    "\t# plot loss\n",
    "\tpyplot.subplot(121)\n",
    "\tpyplot.title('Cross Entropy Loss')\n",
    "\tpyplot.plot(history.history['loss'], color='blue', label='train')\n",
    "\tpyplot.plot(history.history['val_loss'], color='orange', label='test')\n",
    "\tpyplot.show()\n",
    "\t\n",
    " \n",
    "# run the test harness for evaluating a model\n",
    "def run_test_harness():\n",
    "\t\n",
    "\t# define model\n",
    "\t\n",
    "\t# create data generator\n",
    "\tdatagen = ImageDataGenerator(width_shift_range=0.1, height_shift_range=0.1, horizontal_flip=True)\n",
    "\t# prepare iterator\n",
    "\tit_train = datagen.flow(X_train, y_train, batch_size=60)\n",
    "\t# fit model\n",
    "\tsteps = int(X_train.shape[0] / 39)\n",
    "\thistory = model.fit_generator(it_train, steps_per_epoch=steps, epochs=5, validation_data=(X_test, y_test), verbose=1)\n",
    "\t# evaluate model\n",
    "\t_, acc = model.evaluate(X_test, y_test, verbose=0)\n",
    "\tprint('> %.3f' % (acc * 100.0))\n",
    "\t# learning curves\n",
    "\tsummarize_diagnostics(history)\n",
    " \n",
    "# entry point, run the test harness\n"
   ]
  },
  {
   "cell_type": "markdown",
   "metadata": {
    "colab_type": "text",
    "id": "YnQISTa0b2aC"
   },
   "source": [
    "train_loss: 0.0350               train_acc: 0.9877 \n",
    "        \n",
    "val_loss: 0.5632       val_acc: 0.8954"
   ]
  },
  {
   "cell_type": "code",
   "execution_count": 31,
   "metadata": {
    "colab": {
     "base_uri": "https://localhost:8080/",
     "height": 119
    },
    "colab_type": "code",
    "id": "5NOtb1Nob2aE",
    "outputId": "0a60450c-fa85-45d1-f594-dd51cbc3a453"
   },
   "outputs": [
    {
     "name": "stdout",
     "output_type": "stream",
     "text": [
      "+---------------------------+--------+------------+-----------+-----------+----------+\n",
      "|           Model           | epochs | train_loss | train acc | test loss | test acc |\n",
      "+---------------------------+--------+------------+-----------+-----------+----------+\n",
      "|   model with dense layer  |   75   |   0.1203   |   0.956   |   0.6271  |  0.843   |\n",
      "| model without dense layer |  205   |   0.035    |   0.987   |   0.563   |  0.895   |\n",
      "+---------------------------+--------+------------+-----------+-----------+----------+\n"
     ]
    }
   ],
   "source": [
    "from prettytable import PrettyTable\n",
    "\n",
    "conclusion= PrettyTable()\n",
    "conclusion.field_names = [ \"Model\", 'epochs','train_loss','train acc',\"test loss\",'test acc']\n",
    "\n",
    "conclusion.add_row([\"model with dense layer\", 75,0.1203, 0.956, 0.6271,0.843])\n",
    "conclusion.add_row([\"model without dense layer\",205, 0.035, 0.987,0.563,0.895])\n",
    "\n",
    "\n",
    "print(conclusion)"
   ]
  },
  {
   "cell_type": "markdown",
   "metadata": {
    "colab_type": "text",
    "id": "zaeQwNukb2aK"
   },
   "source": [
    "# Conclusion \n",
    "\n",
    "> Overfitting is one the problem in this assignment since dropouts was excluded.\n",
    "\n",
    "> Even tried using L2 regularization but still models are overfitting.\n",
    "\n",
    "> Loss on test data doesnot change after certain number of iterations which can be seen from plots.\n",
    "\n"
   ]
  }
 ],
 "metadata": {
  "accelerator": "GPU",
  "colab": {
   "collapsed_sections": [],
   "name": "cnn_cifr.ipynb",
   "provenance": []
  },
  "kernelspec": {
   "display_name": "Python 3",
   "language": "python",
   "name": "python3"
  },
  "language_info": {
   "codemirror_mode": {
    "name": "ipython",
    "version": 3
   },
   "file_extension": ".py",
   "mimetype": "text/x-python",
   "name": "python",
   "nbconvert_exporter": "python",
   "pygments_lexer": "ipython3",
   "version": "3.7.3"
  }
 },
 "nbformat": 4,
 "nbformat_minor": 1
}
